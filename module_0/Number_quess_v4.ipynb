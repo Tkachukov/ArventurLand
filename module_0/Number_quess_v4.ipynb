{
 "cells": [
  {
   "cell_type": "code",
   "execution_count": 3,
   "metadata": {},
   "outputs": [
    {
     "name": "stdout",
     "output_type": "stream",
     "text": [
      "Ваш алгоритм угадывает число в среднем за 10 попыток\n"
     ]
    }
   ],
   "source": [
    "def game_core_v4(number):\n",
    "    \n",
    "    count = 0\n",
    "    predict = 0\n",
    "    \n",
    "    for dec in range(1,11):\n",
    "        count += 1\n",
    "        if decimal*10 >= number:\n",
    "            predict = decimal*10\n",
    "            break\n",
    "            \n",
    "    while predict != number:\n",
    "        count += 1\n",
    "        predict -= 1\n",
    "        \n",
    "    return(count)\n",
    "\n",
    "def score_game(game_core):\n",
    "    \n",
    "    import numpy as np\n",
    "    count_ls = []\n",
    "    np.random.seed(1)\n",
    "    random_array = np.random.randint(1,101, size=(1000))\n",
    "    \n",
    "    for number in random_array:\n",
    "        count_ls.append(game_core(number))\n",
    "        \n",
    "    score = int(np.mean(count_ls))\n",
    "    print(f\"Ваш алгоритм угадывает число в среднем за {score} попыток\")\n",
    "    \n",
    "    \n",
    "score_game(game_core_v4)"
   ]
  },
  {
   "cell_type": "code",
   "execution_count": null,
   "metadata": {},
   "outputs": [],
   "source": []
  }
 ],
 "metadata": {
  "kernelspec": {
   "display_name": "Python 3",
   "language": "python",
   "name": "python3"
  },
  "language_info": {
   "codemirror_mode": {
    "name": "ipython",
    "version": 3
   },
   "file_extension": ".py",
   "mimetype": "text/x-python",
   "name": "python",
   "nbconvert_exporter": "python",
   "pygments_lexer": "ipython3",
   "version": "3.8.5"
  }
 },
 "nbformat": 4,
 "nbformat_minor": 4
}
