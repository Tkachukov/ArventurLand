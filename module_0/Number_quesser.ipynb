{
 "cells": [
  {
   "cell_type": "code",
   "execution_count": null,
   "metadata": {},
   "outputs": [],
   "source": [
    "def game_core_v3(number):\n",
    "    count = 1\n",
    "    predict = 50\n",
    "    while True:\n",
    "        if predict < number:\n",
    "            count += 1\n",
    "            predict += int(predict//2)\n",
    "        elif predict > number:\n",
    "            count += 1\n",
    "            predict -= 1 #По какой-то причине попытка уменьшить predict вдвое приводит к зацикливанию.\n",
    "        else:\n",
    "            break\n",
    "    return(count)"
   ]
  }
 ],
 "metadata": {
  "kernelspec": {
   "display_name": "Python 3",
   "language": "python",
   "name": "python3"
  },
  "language_info": {
   "codemirror_mode": {
    "name": "ipython",
    "version": 3
   },
   "file_extension": ".py",
   "mimetype": "text/x-python",
   "name": "python",
   "nbconvert_exporter": "python",
   "pygments_lexer": "ipython3",
   "version": "3.8.5"
  }
 },
 "nbformat": 4,
 "nbformat_minor": 4
}
